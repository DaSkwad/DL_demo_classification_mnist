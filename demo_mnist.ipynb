{
 "cells": [
  {
   "cell_type": "markdown",
   "id": "2c6a695b",
   "metadata": {},
   "source": [
    "![MNIST](img/mnist.jpeg)"
   ]
  },
  {
   "cell_type": "markdown",
   "id": "bde21061",
   "metadata": {},
   "source": [
    "Ce notebook vous montre comment entraîner un **réseau de neurones simple (MLP : Multilayer Perceptron)** sur le jeu de données **MNIST**, \n",
    "qui contient des images de chiffres manuscrits (0 à 9).\n",
    "\n",
    "🎯 **Objectifs pédagogiques** :\n",
    "- Comprendre comment structurer un réseau de neurones\n",
    "- Charger et préparer des données images simples\n",
    "- Compiler, entraîner et évaluer un modèle Keras\n",
    "- Observer les performances d’un réseau sur un cas réel"
   ]
  },
  {
   "cell_type": "code",
   "execution_count": 1,
   "id": "f0f42f56",
   "metadata": {},
   "outputs": [],
   "source": [
    "# Chargement des bibliothèques nécessaires à la démonstration\n",
    "\n",
    "import os\n",
    "import numpy as np\n",
    "import tensorflow as tf\n",
    "from tensorflow.keras import layers, models\n",
    "import matplotlib.pyplot as plt\n",
    "import cv2\n",
    "\n",
    "np.set_printoptions(linewidth=np.inf)\n",
    "np.set_printoptions(edgeitems=30) "
   ]
  },
  {
   "cell_type": "markdown",
   "id": "5d557f69",
   "metadata": {},
   "source": [
    "# 1. Exploration des données\n",
    "___"
   ]
  },
  {
   "cell_type": "markdown",
   "id": "032ba2ce",
   "metadata": {},
   "source": [
    "Avant de commencer l'entraînement du modèle, il est important d'**observer les données brutes**.  \n",
    "Nous allons ici charger une **image PNG d’un chiffre manuscrit**, l’afficher et inspecter ses propriétés."
   ]
  },
  {
   "cell_type": "code",
   "execution_count": 2,
   "id": "0b60c8e2",
   "metadata": {},
   "outputs": [
    {
     "name": "stdout",
     "output_type": "stream",
     "text": [
      "[[  0   0   0   0   0   0   0   0   0   0   0   0   0   0   0   0   0   0   0   0   0   0   0   0   0   0   0   0]\n",
      " [  0   0   0   0   0   0   0   0   0   0   0   0   0   0   0   0   0   0   0   0   0   0   0   0   0   0   0   0]\n",
      " [  0   0   0   0   0   0   0   0   0   0   0   0   0   0   0   0   0   0   0   0   0   0   0   0   0   0   0   0]\n",
      " [  0   0   0   0   0   0   0   0   0   0   0   0   0   0   0   0   0   0   0   0   0   0   0   0   0   0   0   0]\n",
      " [  0   0   0   0   0   0   0   0   0   0   0   0   0   0   0  51 159 253 159  50   0   0   0   0   0   0   0   0]\n",
      " [  0   0   0   0   0   0   0   0   0   0   0   0   0   0  48 238 252 252 252 237   0   0   0   0   0   0   0   0]\n",
      " [  0   0   0   0   0   0   0   0   0   0   0   0   0  54 227 253 252 239 233 252  57   6   0   0   0   0   0   0]\n",
      " [  0   0   0   0   0   0   0   0   0   0   0  10  60 224 252 253 252 202  84 252 253 122   0   0   0   0   0   0]\n",
      " [  0   0   0   0   0   0   0   0   0   0   0 163 252 252 252 253 252 252  96 189 253 167   0   0   0   0   0   0]\n",
      " [  0   0   0   0   0   0   0   0   0   0  51 238 253 253 190 114 253 228  47  79 255 168   0   0   0   0   0   0]\n",
      " [  0   0   0   0   0   0   0   0   0  48 238 252 252 179  12  75 121  21   0   0 253 243  50   0   0   0   0   0]\n",
      " [  0   0   0   0   0   0   0   0  38 165 253 233 208  84   0   0   0   0   0   0 253 252 165   0   0   0   0   0]\n",
      " [  0   0   0   0   0   0   0   7 178 252 240  71  19  28   0   0   0   0   0   0 253 252 195   0   0   0   0   0]\n",
      " [  0   0   0   0   0   0   0  57 252 252  63   0   0   0   0   0   0   0   0   0 253 252 195   0   0   0   0   0]\n",
      " [  0   0   0   0   0   0   0 198 253 190   0   0   0   0   0   0   0   0   0   0 255 253 196   0   0   0   0   0]\n",
      " [  0   0   0   0   0   0  76 246 252 112   0   0   0   0   0   0   0   0   0   0 253 252 148   0   0   0   0   0]\n",
      " [  0   0   0   0   0   0  85 252 230  25   0   0   0   0   0   0   0   0   7 135 253 186  12   0   0   0   0   0]\n",
      " [  0   0   0   0   0   0  85 252 223   0   0   0   0   0   0   0   0   7 131 252 225  71   0   0   0   0   0   0]\n",
      " [  0   0   0   0   0   0  85 252 145   0   0   0   0   0   0   0  48 165 252 173   0   0   0   0   0   0   0   0]\n",
      " [  0   0   0   0   0   0  86 253 225   0   0   0   0   0   0 114 238 253 162   0   0   0   0   0   0   0   0   0]\n",
      " [  0   0   0   0   0   0  85 252 249 146  48  29  85 178 225 253 223 167  56   0   0   0   0   0   0   0   0   0]\n",
      " [  0   0   0   0   0   0  85 252 252 252 229 215 252 252 252 196 130   0   0   0   0   0   0   0   0   0   0   0]\n",
      " [  0   0   0   0   0   0  28 199 252 252 253 252 252 233 145   0   0   0   0   0   0   0   0   0   0   0   0   0]\n",
      " [  0   0   0   0   0   0   0  25 128 252 253 252 141  37   0   0   0   0   0   0   0   0   0   0   0   0   0   0]\n",
      " [  0   0   0   0   0   0   0   0   0   0   0   0   0   0   0   0   0   0   0   0   0   0   0   0   0   0   0   0]\n",
      " [  0   0   0   0   0   0   0   0   0   0   0   0   0   0   0   0   0   0   0   0   0   0   0   0   0   0   0   0]\n",
      " [  0   0   0   0   0   0   0   0   0   0   0   0   0   0   0   0   0   0   0   0   0   0   0   0   0   0   0   0]\n",
      " [  0   0   0   0   0   0   0   0   0   0   0   0   0   0   0   0   0   0   0   0   0   0   0   0   0   0   0   0]]\n"
     ]
    },
    {
     "data": {
      "image/png": "[encoded data removed]",
      "text/plain": [
       "<Figure size 640x480 with 1 Axes>"
      ]
     },
     "metadata": {},
     "output_type": "display_data"
    },
    {
     "name": "stdout",
     "output_type": "stream",
     "text": [
      "Shape (dimensions)    : (28, 28)\n",
      "Type des valeurs      : uint8\n"
     ]
    }
   ],
   "source": [
    "# On charge une image depuis un chemin local, l’image est chargé en 1 canal (valeur de pixel de 0 à 255)\n",
    "img = cv2.imread(\"data/mnist/train/0/train_image_1.png\", cv2.IMREAD_GRAYSCALE)\n",
    "\n",
    "# Observer l'image sous forme de matrice\n",
    "print(img)\n",
    "\n",
    "# Visualisation de l'image\n",
    "plt.imshow(img, cmap=\"gray\")\n",
    "plt.axis(\"off\")\n",
    "plt.show()\n",
    "\n",
    "# Inspection des métadonnées de l'image\n",
    "print(f\"Shape (dimensions)    : {img.shape}\")\n",
    "print(f\"Type des valeurs      : {img.dtype}\")\n"
   ]
  },
  {
   "cell_type": "markdown",
   "id": "cf5c2fd0",
   "metadata": {},
   "source": [
    "# 2. Préparation des données\n",
    "___"
   ]
  },
  {
   "cell_type": "markdown",
   "id": "375e1088",
   "metadata": {},
   "source": [
    "Dans cette section, nous allons charger les images de chiffres manuscrits (dataset MNIST) depuis des dossiers. Chaque sous-dossier représente une classe (de 0 à 9), et contient les images correspondant à ce chiffre.\n",
    "\n",
    "Le but est de :\n",
    "- Lire chaque image en niveau de gris (valeurs entre 0 et 255)\n",
    "- Associer chaque image à sa classe (le nom du dossier)\n",
    "- Retourner deux tableaux : X pour les images, y pour les étiquettes\n"
   ]
  },
  {
   "cell_type": "code",
   "execution_count": 3,
   "id": "002943ed",
   "metadata": {},
   "outputs": [],
   "source": [
    "def get_train_test(base_path: str):\n",
    "    X = []  # liste pour stocker les images\n",
    "    y = []  # liste pour stocker les étiquettes correspondantes\n",
    "\n",
    "    # On parcourt les sous-dossiers du répertoire (un dossier par chiffre)\n",
    "    for label in sorted(os.listdir(base_path)):\n",
    "        # on ignore les fichiers qui ne sont pas des dossiers de chiffres\n",
    "        if not label.isdigit():\n",
    "            continue\n",
    "        label_path = os.path.join(base_path, label)\n",
    "\n",
    "        # On parcourt chaque image du dossier\n",
    "        for file_name in os.listdir(label_path):\n",
    "            file_path = os.path.join(label_path, file_name)\n",
    "            # Lecture de l'image en niveaux de gris\n",
    "            img = cv2.imread(file_path, cv2.IMREAD_GRAYSCALE)\n",
    "            if img is None:\n",
    "                continue  # image illisible, on passe\n",
    "            X.append(img)           # on ajoute l'image à la liste\n",
    "            y.append(int(label))    # on ajoute le label (ex: 0, 1, ..., 9)\n",
    "\n",
    "    # Conversion des listes en tableaux NumPy\n",
    "    X = np.array(X)\n",
    "    y = np.array(y)\n",
    "    return X, y\n",
    "\n",
    "X_train, y_train = get_train_test(\"data/mnist/train\")\n",
    "X_test, y_test = get_train_test(\"data/mnist/test\")"
   ]
  },
  {
   "cell_type": "markdown",
   "id": "c80cb66e",
   "metadata": {},
   "source": [
    "Avant de lancer l’entraînement d’un réseau de neurones, il est important de visualiser quelques images pour vérifier que les données sont bien chargées, correctement orientées, et associées aux bonnes étiquettes.\n",
    "\n",
    "Ci-dessous, nous affichons les 10 premières images du jeu d’entraînement X_train.\n"
   ]
  },
  {
   "cell_type": "code",
   "execution_count": 4,
   "id": "fe318a1a",
   "metadata": {},
   "outputs": [
    {
     "data": {
      "image/png": "[encoded data removed]",
      "text/plain": [
       "<Figure size 640x480 with 10 Axes>"
      ]
     },
     "metadata": {},
     "output_type": "display_data"
    }
   ],
   "source": [
    "# Vérification des données préparées\n",
    "for i in range(10):\n",
    "    plt.subplot(1, 10, i + 1)\n",
    "    plt.imshow(X_train[i], cmap=\"grey\")\n",
    "    plt.axis(\"off\")\n",
    "\n",
    "plt.show()"
   ]
  },
  {
   "cell_type": "markdown",
   "id": "e853ce14",
   "metadata": {},
   "source": [
    "# 3. Preprocessing\n",
    "___"
   ]
  },
  {
   "cell_type": "markdown",
   "id": "80410ec1",
   "metadata": {},
   "source": [
    "Avant d’envoyer nos images dans un réseau de neurones, nous devons les prétraiter pour qu’elles soient dans un format compatible et optimisé pour l’apprentissage.\n",
    "\n",
    "Cela inclut :\n",
    "- La conversion des entiers (0–255) en nombres à virgule (float32)\n",
    "- La normalisation des pixels entre 0.0 et 1.0\n",
    "- Le flattening (mise à plat) des images 28x28 en vecteurs de 784 valeurs, car un MLP attend un vecteur d’entrée."
   ]
  },
  {
   "cell_type": "code",
   "execution_count": 5,
   "id": "cfd735d4",
   "metadata": {},
   "outputs": [],
   "source": [
    "# Les images sont au format (28, 28). On les convertit en float pour normaliser ensuite\n",
    "X_train = X_train.astype(\"float32\")\n",
    "X_test = X_test.astype(\"float32\")\n",
    "\n",
    "# Normalisation : on divise les valeurs de pixels par 255 pour les ramener entre 0 et 1\n",
    "X_train /= 255.0\n",
    "X_test /= 255.0\n",
    "\n",
    "# Flatten : pour un MLP, chaque image 28x28 doit devenir un vecteur de 784 valeurs\n",
    "X_train = X_train.reshape(X_train.shape[0], 28 * 28)\n",
    "X_test = X_test.reshape(X_test.shape[0], 28 * 28)"
   ]
  },
  {
   "cell_type": "markdown",
   "id": "fdf4b9e4",
   "metadata": {},
   "source": [
    "# 4. Modélisation\n",
    "___"
   ]
  },
  {
   "cell_type": "markdown",
   "id": "67cc20e4",
   "metadata": {},
   "source": [
    "Nous allons maintenant construire un réseau de neurones multicouche c'est à dire définir son architecture en cumulant les différentes couches :\n",
    "- 1 couche d'entrée\n",
    "- n couches cachées\n",
    "- 1 couche de sortie"
   ]
  },
  {
   "cell_type": "code",
   "execution_count": 6,
   "id": "42eef752",
   "metadata": {},
   "outputs": [],
   "source": [
    "model = models.Sequential([\n",
    "    layers.Input(shape=(784,)),            # Couche d'entrée : vecteur de 784 pixels\n",
    "    layers.Dense(128, activation='relu'),  # 1ère couche cachée avec 128 neurones\n",
    "    layers.Dense(64, activation='relu'),   # 2e couche cachée avec 64 neurones\n",
    "    layers.Dense(10, activation='softmax') # Couche de sortie : 10 classes (0 à 9), avec softmax qui permet d’obtenir une probabilité pour chaque classe\n",
    "])"
   ]
  },
  {
   "cell_type": "markdown",
   "id": "18f01d95",
   "metadata": {},
   "source": [
    "Avant de pouvoir entraîner notre réseau de neurones, nous devons lui indiquer comment il doit apprendre. C’est le rôle de la méthode compile() dans Keras.\n",
    "\n",
    "Concrètement, compiler un modèle, c’est définir trois éléments essentiels :\n",
    "\n",
    "> L’**optimiseur**\n",
    "\n",
    "L’optimiseur est l’algorithme qui ajuste les poids du réseau pour améliorer ses prédictions.\n",
    "Il agit à chaque itération de l’entraînement en suivant le gradient de la fonction de perte.\n",
    "\n",
    "Ici, on utilise adam : un optimiseur efficace et souvent utilisé par défaut.\n",
    "\n",
    "> La **fonction de pert**e (loss function)\n",
    "\n",
    "C’est une mesure de l’erreur entre les prédictions du modèle et les valeurs réelles.\n",
    "Le modèle essaie de minimiser cette erreur.\n",
    "\n",
    "Dans notre cas, on utilise **sparse_categorical_crossentropy** car :\n",
    "- il s’agit d’un problème de classification multi-classes (10 chiffres, donc 10 classes)\n",
    "- les étiquettes sont des entiers (ex : 0, 1, 2…)\n",
    "\n",
    "> Les **métriques d’évaluation**\n",
    "\n",
    "Les métriques servent à suivre les performances du modèle pendant l’entraînement.\n",
    "La plus courante pour la classification est accuracy : le pourcentage de bonnes prédictions."
   ]
  },
  {
   "cell_type": "code",
   "execution_count": 7,
   "id": "e732ad85",
   "metadata": {},
   "outputs": [],
   "source": [
    "model.compile(\n",
    "    optimizer='adam',                            # Méthode d’optimisation (descente de gradient)\n",
    "    loss='sparse_categorical_crossentropy',      # Fonction de perte pour classification multi-classe avec étiquettes entières (ex : 0 à 9)\n",
    "    metrics=['accuracy']                         # On surveille l’exactitude pendant l'entraînement\n",
    ")"
   ]
  },
  {
   "cell_type": "code",
   "execution_count": 8,
   "id": "4564ce27",
   "metadata": {},
   "outputs": [
    {
     "data": {
      "text/html": [
       "<pre style=\"white-space:pre;overflow-x:auto;line-height:normal;font-family:Menlo,'DejaVu Sans Mono',consolas,'Courier New',monospace\"><span style=\"font-weight: bold\">Model: \"sequential\"</span>\n",
       "</pre>\n"
      ],
      "text/plain": [
       "\u001b[1mModel: \"sequential\"\u001b[0m\n"
      ]
     },
     "metadata": {},
     "output_type": "display_data"
    },
    {
     "data": {
      "text/html": [
       "<pre style=\"white-space:pre;overflow-x:auto;line-height:normal;font-family:Menlo,'DejaVu Sans Mono',consolas,'Courier New',monospace\">┏━━━━━━━━━━━━━━━━━━━━━━━━━━━━━━━━━┳━━━━━━━━━━━━━━━━━━━━━━━━┳━━━━━━━━━━━━━━━┓\n",
       "┃<span style=\"font-weight: bold\"> Layer (type)                    </span>┃<span style=\"font-weight: bold\"> Output Shape           </span>┃<span style=\"font-weight: bold\">       Param # </span>┃\n",
       "┡━━━━━━━━━━━━━━━━━━━━━━━━━━━━━━━━━╇━━━━━━━━━━━━━━━━━━━━━━━━╇━━━━━━━━━━━━━━━┩\n",
       "│ dense (<span style=\"color: #0087ff; text-decoration-color: #0087ff\">Dense</span>)                   │ (<span style=\"color: #00d7ff; text-decoration-color: #00d7ff\">None</span>, <span style=\"color: #00af00; text-decoration-color: #00af00\">128</span>)            │       <span style=\"color: #00af00; text-decoration-color: #00af00\">100,480</span> │\n",
       "├─────────────────────────────────┼────────────────────────┼───────────────┤\n",
       "│ dense_1 (<span style=\"color: #0087ff; text-decoration-color: #0087ff\">Dense</span>)                 │ (<span style=\"color: #00d7ff; text-decoration-color: #00d7ff\">None</span>, <span style=\"color: #00af00; text-decoration-color: #00af00\">64</span>)             │         <span style=\"color: #00af00; text-decoration-color: #00af00\">8,256</span> │\n",
       "├─────────────────────────────────┼────────────────────────┼───────────────┤\n",
       "│ dense_2 (<span style=\"color: #0087ff; text-decoration-color: #0087ff\">Dense</span>)                 │ (<span style=\"color: #00d7ff; text-decoration-color: #00d7ff\">None</span>, <span style=\"color: #00af00; text-decoration-color: #00af00\">10</span>)             │           <span style=\"color: #00af00; text-decoration-color: #00af00\">650</span> │\n",
       "└─────────────────────────────────┴────────────────────────┴───────────────┘\n",
       "</pre>\n"
      ],
      "text/plain": [
       "┏━━━━━━━━━━━━━━━━━━━━━━━━━━━━━━━━━┳━━━━━━━━━━━━━━━━━━━━━━━━┳━━━━━━━━━━━━━━━┓\n",
       "┃\u001b[1m \u001b[0m\u001b[1mLayer (type)                   \u001b[0m\u001b[1m \u001b[0m┃\u001b[1m \u001b[0m\u001b[1mOutput Shape          \u001b[0m\u001b[1m \u001b[0m┃\u001b[1m \u001b[0m\u001b[1m      Param #\u001b[0m\u001b[1m \u001b[0m┃\n",
       "┡━━━━━━━━━━━━━━━━━━━━━━━━━━━━━━━━━╇━━━━━━━━━━━━━━━━━━━━━━━━╇━━━━━━━━━━━━━━━┩\n",
       "│ dense (\u001b[38;5;33mDense\u001b[0m)                   │ (\u001b[38;5;45mNone\u001b[0m, \u001b[38;5;34m128\u001b[0m)            │       \u001b[38;5;34m100,480\u001b[0m │\n",
       "├─────────────────────────────────┼────────────────────────┼───────────────┤\n",
       "│ dense_1 (\u001b[38;5;33mDense\u001b[0m)                 │ (\u001b[38;5;45mNone\u001b[0m, \u001b[38;5;34m64\u001b[0m)             │         \u001b[38;5;34m8,256\u001b[0m │\n",
       "├─────────────────────────────────┼────────────────────────┼───────────────┤\n",
       "│ dense_2 (\u001b[38;5;33mDense\u001b[0m)                 │ (\u001b[38;5;45mNone\u001b[0m, \u001b[38;5;34m10\u001b[0m)             │           \u001b[38;5;34m650\u001b[0m │\n",
       "└─────────────────────────────────┴────────────────────────┴───────────────┘\n"
      ]
     },
     "metadata": {},
     "output_type": "display_data"
    },
    {
     "data": {
      "text/html": [
       "<pre style=\"white-space:pre;overflow-x:auto;line-height:normal;font-family:Menlo,'DejaVu Sans Mono',consolas,'Courier New',monospace\"><span style=\"font-weight: bold\"> Total params: </span><span style=\"color: #00af00; text-decoration-color: #00af00\">109,386</span> (427.29 KB)\n",
       "</pre>\n"
      ],
      "text/plain": [
       "\u001b[1m Total params: \u001b[0m\u001b[38;5;34m109,386\u001b[0m (427.29 KB)\n"
      ]
     },
     "metadata": {},
     "output_type": "display_data"
    },
    {
     "data": {
      "text/html": [
       "<pre style=\"white-space:pre;overflow-x:auto;line-height:normal;font-family:Menlo,'DejaVu Sans Mono',consolas,'Courier New',monospace\"><span style=\"font-weight: bold\"> Trainable params: </span><span style=\"color: #00af00; text-decoration-color: #00af00\">109,386</span> (427.29 KB)\n",
       "</pre>\n"
      ],
      "text/plain": [
       "\u001b[1m Trainable params: \u001b[0m\u001b[38;5;34m109,386\u001b[0m (427.29 KB)\n"
      ]
     },
     "metadata": {},
     "output_type": "display_data"
    },
    {
     "data": {
      "text/html": [
       "<pre style=\"white-space:pre;overflow-x:auto;line-height:normal;font-family:Menlo,'DejaVu Sans Mono',consolas,'Courier New',monospace\"><span style=\"font-weight: bold\"> Non-trainable params: </span><span style=\"color: #00af00; text-decoration-color: #00af00\">0</span> (0.00 B)\n",
       "</pre>\n"
      ],
      "text/plain": [
       "\u001b[1m Non-trainable params: \u001b[0m\u001b[38;5;34m0\u001b[0m (0.00 B)\n"
      ]
     },
     "metadata": {},
     "output_type": "display_data"
    }
   ],
   "source": [
    "# Résumé du modèle\n",
    "model.summary()"
   ]
  },
  {
   "cell_type": "markdown",
   "id": "ba54d854",
   "metadata": {},
   "source": [
    "Une fois le modèle défini et compilé, on passe à l’entraînement : c’est ici que le réseau apprend à prédire les bonnes classes à partir des images.\n",
    "\n",
    "> **Que se passe-t-il pendant l’entraînement ?**\n",
    "\n",
    "À chaque epoch :\n",
    "- Le modèle passe sur toutes les images du jeu d’entraînement (X_train)\n",
    "- Il fait des prédictions\n",
    "- Compare les prédictions aux vraies étiquettes (y_train)\n",
    "- Calcule la perte (l’erreur)\n",
    "- Met à jour les poids internes pour réduire cette erreur (grâce à l’optimiseur)\n",
    "\n",
    "Ce processus est répété plusieurs fois (une fois par epoch), ce qui permet au modèle d’améliorer progressivement ses performances.\n",
    "\n",
    "> **Et le batch_size ?**\n",
    "\n",
    "Le modèle ne traite pas toutes les images d’un coup (cela prendrait trop de mémoire).\n",
    "Il les traite par lots (batches) de 64 images ici.\n",
    "\n",
    "Après chaque batch, une mise à jour des poids est effectuée."
   ]
  },
  {
   "cell_type": "code",
   "execution_count": 9,
   "id": "ff2d5523",
   "metadata": {},
   "outputs": [
    {
     "name": "stdout",
     "output_type": "stream",
     "text": [
      "Epoch 1/10\n",
      "\u001b[1m938/938\u001b[0m \u001b[32m━━━━━━━━━━━━━━━━━━━━\u001b[0m\u001b[37m\u001b[0m \u001b[1m1s\u001b[0m 739us/step - accuracy: 0.8595 - loss: 0.4852\n",
      "Epoch 2/10\n",
      "\u001b[1m938/938\u001b[0m \u001b[32m━━━━━━━━━━━━━━━━━━━━\u001b[0m\u001b[37m\u001b[0m \u001b[1m1s\u001b[0m 688us/step - accuracy: 0.9637 - loss: 0.1178\n",
      "Epoch 3/10\n",
      "\u001b[1m938/938\u001b[0m \u001b[32m━━━━━━━━━━━━━━━━━━━━\u001b[0m\u001b[37m\u001b[0m \u001b[1m1s\u001b[0m 698us/step - accuracy: 0.9770 - loss: 0.0751\n",
      "Epoch 4/10\n",
      "\u001b[1m938/938\u001b[0m \u001b[32m━━━━━━━━━━━━━━━━━━━━\u001b[0m\u001b[37m\u001b[0m \u001b[1m1s\u001b[0m 726us/step - accuracy: 0.9831 - loss: 0.0542\n",
      "Epoch 5/10\n",
      "\u001b[1m938/938\u001b[0m \u001b[32m━━━━━━━━━━━━━━━━━━━━\u001b[0m\u001b[37m\u001b[0m \u001b[1m1s\u001b[0m 750us/step - accuracy: 0.9860 - loss: 0.0436\n",
      "Epoch 6/10\n",
      "\u001b[1m938/938\u001b[0m \u001b[32m━━━━━━━━━━━━━━━━━━━━\u001b[0m\u001b[37m\u001b[0m \u001b[1m1s\u001b[0m 713us/step - accuracy: 0.9888 - loss: 0.0353\n",
      "Epoch 7/10\n",
      "\u001b[1m938/938\u001b[0m \u001b[32m━━━━━━━━━━━━━━━━━━━━\u001b[0m\u001b[37m\u001b[0m \u001b[1m1s\u001b[0m 721us/step - accuracy: 0.9918 - loss: 0.0257\n",
      "Epoch 8/10\n",
      "\u001b[1m938/938\u001b[0m \u001b[32m━━━━━━━━━━━━━━━━━━━━\u001b[0m\u001b[37m\u001b[0m \u001b[1m1s\u001b[0m 700us/step - accuracy: 0.9926 - loss: 0.0234\n",
      "Epoch 9/10\n",
      "\u001b[1m938/938\u001b[0m \u001b[32m━━━━━━━━━━━━━━━━━━━━\u001b[0m\u001b[37m\u001b[0m \u001b[1m1s\u001b[0m 708us/step - accuracy: 0.9940 - loss: 0.0183\n",
      "Epoch 10/10\n",
      "\u001b[1m938/938\u001b[0m \u001b[32m━━━━━━━━━━━━━━━━━━━━\u001b[0m\u001b[37m\u001b[0m \u001b[1m1s\u001b[0m 686us/step - accuracy: 0.9950 - loss: 0.0168\n"
     ]
    },
    {
     "data": {
      "text/plain": [
       "<keras.src.callbacks.history.History at 0x156e30310>"
      ]
     },
     "execution_count": 9,
     "metadata": {},
     "output_type": "execute_result"
    }
   ],
   "source": [
    "model.fit(\n",
    "    X_train, y_train,        # Données d’entraînement\n",
    "    epochs=10,               # Nombre de passages sur l’ensemble du dataset\n",
    "    batch_size=64            # Nombre d’images traitées avant mise à jour des poids\n",
    ")"
   ]
  },
  {
   "cell_type": "markdown",
   "id": "56dc6583",
   "metadata": {},
   "source": [
    "# 5. Évaluation du modèle"
   ]
  },
  {
   "cell_type": "markdown",
   "id": "5000acc3",
   "metadata": {},
   "source": [
    "Une fois l’entraînement terminé, il est crucial de mesurer la performance du modèle sur des données qu’il n’a jamais vues : le jeu de test (X_test, y_test).\n",
    "\n",
    "Cela permet de vérifier si le modèle a bien appris à généraliser, et non à simplement mémoriser les données d’entraînement."
   ]
  },
  {
   "cell_type": "code",
   "execution_count": 10,
   "id": "677061d6",
   "metadata": {},
   "outputs": [
    {
     "name": "stdout",
     "output_type": "stream",
     "text": [
      "\u001b[1m313/313\u001b[0m \u001b[32m━━━━━━━━━━━━━━━━━━━━\u001b[0m\u001b[37m\u001b[0m \u001b[1m0s\u001b[0m 332us/step - accuracy: 0.9825 - loss: 0.0713\n",
      "Accuracy sur le test : 97.85%\n"
     ]
    }
   ],
   "source": [
    "loss, acc = model.evaluate(X_test, y_test)\n",
    "print(f\"Accuracy sur le test : {acc*100:.2f}%\")"
   ]
  },
  {
   "cell_type": "code",
   "execution_count": 11,
   "id": "9ae60560",
   "metadata": {},
   "outputs": [
    {
     "name": "stdout",
     "output_type": "stream",
     "text": [
      "\u001b[1m1/1\u001b[0m \u001b[32m━━━━━━━━━━━━━━━━━━━━\u001b[0m\u001b[37m\u001b[0m \u001b[1m0s\u001b[0m 18ms/step\n"
     ]
    },
    {
     "data": {
      "image/png": "[encoded data removed]",
      "text/plain": [
       "<Figure size 640x480 with 1 Axes>"
      ]
     },
     "metadata": {},
     "output_type": "display_data"
    }
   ],
   "source": [
    "# Affichage d’un chiffre avec prédiction\n",
    "img_to_predict = 3456\n",
    "plt.imshow(X_test[img_to_predict].reshape(28, 28),cmap=\"grey\")\n",
    "plt.title(f\"Prédit : {model.predict(X_test[[img_to_predict]]).argmax()}\")\n",
    "plt.axis('off')\n",
    "plt.show()"
   ]
  }
 ],
 "metadata": {
  "kernelspec": {
   "display_name": ".venv",
   "language": "python",
   "name": "python3"
  },
  "language_info": {
   "codemirror_mode": {
    "name": "ipython",
    "version": 3
   },
   "file_extension": ".py",
   "mimetype": "text/x-python",
   "name": "python",
   "nbconvert_exporter": "python",
   "pygments_lexer": "ipython3",
   "version": "3.10.17"
  }
 },
 "nbformat": 4,
 "nbformat_minor": 5
}
